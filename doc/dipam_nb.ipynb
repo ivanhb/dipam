{
 "cells": [
  {
   "cell_type": "code",
   "execution_count": 1,
   "metadata": {},
   "outputs": [],
   "source": [
    "import numpy as np"
   ]
  },
  {
   "cell_type": "code",
   "execution_count": 2,
   "metadata": {},
   "outputs": [],
   "source": [
    "import pandas as pd"
   ]
  },
  {
   "cell_type": "code",
   "execution_count": 3,
   "metadata": {},
   "outputs": [],
   "source": [
    "import os"
   ]
  },
  {
   "cell_type": "code",
   "execution_count": 4,
   "metadata": {},
   "outputs": [],
   "source": [
    "# LDA TEST"
   ]
  },
  {
   "cell_type": "code",
   "execution_count": 5,
   "metadata": {},
   "outputs": [],
   "source": [
    "#doc1 = \"Sugar is bad to consume. My sister likes to have sugar, but not my father.\"\n",
    "#doc2 = \"My father spends a lot of time driving my sister around to dance practice.\"\n",
    "#doc3 = \"Doctors suggest that driving may cause increased stress and blood pressure.\"\n",
    "#doc4 = \"Sometimes I feel pressure to perform well at school, but my father never seems to drive my sister to do better.\"\n",
    "#doc5 = \"Health experts say that Sugar is not good for your lifestyle.\"\n",
    "#doc_complete = [doc1, doc2, doc3, doc4, doc5]"
   ]
  },
  {
   "cell_type": "code",
   "execution_count": 6,
   "metadata": {},
   "outputs": [],
   "source": [
    "import codecs\n",
    "path = \"../src/data/corpus\"\n",
    "doc_complete = []\n",
    "for i in os.listdir(path):\n",
    "    if i.endswith('.txt'):\n",
    "        with codecs.open(path+\"/\"+i, 'r', encoding='utf-8',errors='ignore') as f:\n",
    "            doc_complete.append(f.read())"
   ]
  },
  {
   "cell_type": "code",
   "execution_count": null,
   "metadata": {},
   "outputs": [],
   "source": []
  },
  {
   "cell_type": "code",
   "execution_count": 7,
   "metadata": {},
   "outputs": [],
   "source": [
    "##Clean\n",
    "#import nltk\n",
    "#nltk.download('stopwords')\n",
    "#nltk.download('wordnet')\n",
    "\n",
    "from nltk.corpus import stopwords \n",
    "from nltk.stem.wordnet import WordNetLemmatizer\n",
    "import string\n",
    "stop = set(stopwords.words('english'))\n",
    "exclude = set(string.punctuation) \n",
    "lemma = WordNetLemmatizer()\n",
    "def clean(doc):\n",
    "    stop_free = \" \".join([i for i in doc.lower().split() if i not in stop])\n",
    "    punc_free = ''.join(ch for ch in stop_free if ch not in exclude)\n",
    "    normalized = \" \".join(lemma.lemmatize(word) for word in punc_free.split())\n",
    "    return normalized\n",
    "\n",
    "doc_clean = [clean(doc).split() for doc in doc_complete] "
   ]
  },
  {
   "cell_type": "code",
   "execution_count": 8,
   "metadata": {},
   "outputs": [],
   "source": [
    "# Importing Gensim\n",
    "import gensim\n",
    "from gensim.models.coherencemodel import CoherenceModel\n",
    "from gensim import corpora\n",
    "\n",
    "# Creating the term dictionary of our courpus, where every unique term is assigned an index. \n",
    "dictionary = corpora.Dictionary(doc_clean)\n",
    "\n",
    "# Converting list of documents (corpus) into Document Term Matrix using dictionary prepared above.\n",
    "doc_term_matrix = [dictionary.doc2bow(doc) for doc in doc_clean]"
   ]
  },
  {
   "cell_type": "code",
   "execution_count": 9,
   "metadata": {},
   "outputs": [],
   "source": [
    "# Creating the object for LDA model using gensim library\n",
    "Lda = gensim.models.ldamodel.LdaModel\n",
    "\n",
    "# Running and Trainign LDA model on the document term matrix.\n",
    "ldamodel = Lda(doc_term_matrix, num_topics=3, id2word = dictionary, passes=50)"
   ]
  },
  {
   "cell_type": "code",
   "execution_count": 12,
   "metadata": {},
   "outputs": [],
   "source": [
    "cm = CoherenceModel(model=ldamodel, corpus=doc_term_matrix, coherence='u_mass')\n",
    "coherence = cm.get_coherence()"
   ]
  },
  {
   "cell_type": "code",
   "execution_count": null,
   "metadata": {},
   "outputs": [],
   "source": []
  },
  {
   "cell_type": "code",
   "execution_count": 14,
   "metadata": {},
   "outputs": [],
   "source": [
    "res = ldamodel.print_topics(num_topics=3, num_words=25)\n"
   ]
  },
  {
   "cell_type": "code",
   "execution_count": 15,
   "metadata": {},
   "outputs": [
    {
     "data": {
      "text/plain": [
       "'0.007*\"peddie\" + 0.006*\"hbc\" + 0.006*\"professional\" + 0.005*\"accounting\" + 0.005*\"trade\" + 0.005*\"also\" + 0.005*\"member\" + 0.004*\"society\" + 0.004*\"accountant\" + 0.004*\"post\" + 0.004*\"good\" + 0.004*\"council\" + 0.003*\"fur\" + 0.003*\"cornelius\" + 0.003*\"year\" + 0.003*\"sae\" + 0.003*\"would\" + 0.003*\"outfit\" + 0.003*\"public\" + 0.003*\"simpson\" + 0.003*\"information\" + 0.003*\"record\" + 0.003*\"committee\" + 0.003*\"ibid\" + 0.003*\"employee\"'"
      ]
     },
     "execution_count": 15,
     "metadata": {},
     "output_type": "execute_result"
    }
   ],
   "source": []
  },
  {
   "cell_type": "code",
   "execution_count": 76,
   "metadata": {},
   "outputs": [],
   "source": [
    "import json\n",
    "\n",
    "index = {}\n",
    "index['ciao'] = ['bye','go']\n",
    "with open('data.json', 'w') as fp:\n",
    "    json.dump(index, fp)"
   ]
  },
  {
   "cell_type": "code",
   "execution_count": 16,
   "metadata": {},
   "outputs": [],
   "source": [
    "new_dir = 'jim'\n",
    "try:\n",
    "    os.mkdir(new_dir)\n",
    "except:\n",
    "    print -1"
   ]
  },
  {
   "cell_type": "code",
   "execution_count": 19,
   "metadata": {},
   "outputs": [],
   "source": [
    "a_file = open(\"data/corpus/AH_1996_001.txt\",\"r\", encoding='utf-8', errors='ignore')\n",
    "txt = a_file.read()"
   ]
  },
  {
   "cell_type": "code",
   "execution_count": 32,
   "metadata": {},
   "outputs": [
    {
     "data": {
      "text/plain": [
       "'EditorialThis second issue in the New Series of the journal features articles on accounting \\'s past in Scotland, China, Canada and New Zealand. Submissions of papers to date indicate that this international focus will be the hallmark of the New  Series.Professional bodies have developed means by which they deal with members \\' misconduct. This has not always been the case. Walker traces the formulation of a disciplinary code by the Society of Accountants in Edinburgh (SAE) during the 1880s. Prior to this time, the social and moral controls which faced members were perceived to be sufficiently strong to prevent dishonourable behaviour. The SAE\\'s reactions to adverse press coverage of the activities of members is shown to be related to the volume of adverse publicity . Further examinations of the responses of professional accounting bodies to unfavourable publicity , whether linked to the activities of individual members or of a more general nature, are  encouraged.Scorgie and Ji set their exploratory study behind the \"silk curtain\". Whilst they did not examine Oriental archives, they focus attention on Chinese treatises which used production calculations and, in some cases profits, to justify investment in technology in agriculture and manufacturing. The authors challenge scholars to undertake archival studies in the Eastern World to present evidence of the use of calculative techniques within their historical contexts, and thus to assist in building a comparative international accounting history  literature.The editorial of NS Vol. I , No.I rendered encouragement to the explicit use of theoretical perspectives drawn from disciplines such as economics, sociology and political theory in conducting explanatory investigative studies  of accounting\\'s past. In studying the historical accounting records of the Hudson\\'s Bay Company, Roy and Spraakman used a specific agency theory perspective - transaction cost economics (TCE) - to interpret accounting\\'s past. They argue that TCE \"provides a theory for understanding how organisations use directing and monitoring information to reduce opportunism\". Anderson examines the professionalisation of cost accounting in New Zealand with a focus on the Australian influence in the formation of the New Zealand Institute of Cost Accountants in 1944. The article augments the literature on the development of separate cost accounting associations. Notwithstanding, there is considerable scope for critical and interpretive research into the demise of such associations in various parts of the world through their integration with mainstream professional accounting bodies.This New Series of Accounting History will feature an annual Accounting History Research Interest Group (AHSIG) Manuscript Award. This award will be presented to the author(s) of the article published in the journal which makes the most significant contribution to the accounting history literature. The award will be judged by members of the AHSIG. The winner of the 1996 AHSIG Manuscript Award will be announced in the May 1997 issue of the journal.Various favourable comments have been received from accounting scholars worldwide on the launching of the New Series of the journal. One such complimentary letter containing encouraging remarks on NS Vol.I , No.I was from Emeritus Dean Paul Gamer written only a few weeks before his passing in October. His encouragement to all in the accounting history field will be sadly missed.'"
      ]
     },
     "execution_count": 32,
     "metadata": {},
     "output_type": "execute_result"
    }
   ],
   "source": [
    "import re\n",
    "rr = re.compile('\\n')\n",
    "re.sub(rr,\"\", txt)"
   ]
  },
  {
   "cell_type": "code",
   "execution_count": null,
   "metadata": {},
   "outputs": [],
   "source": []
  }
 ],
 "metadata": {
  "kernelspec": {
   "display_name": "Python 3",
   "language": "python",
   "name": "python3"
  },
  "language_info": {
   "codemirror_mode": {
    "name": "ipython",
    "version": 3
   },
   "file_extension": ".py",
   "mimetype": "text/x-python",
   "name": "python",
   "nbconvert_exporter": "python",
   "pygments_lexer": "ipython3",
   "version": "3.6.5"
  }
 },
 "nbformat": 4,
 "nbformat_minor": 2
}
