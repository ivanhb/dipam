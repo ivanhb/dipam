{
 "cells": [
  {
   "cell_type": "code",
   "execution_count": null,
   "metadata": {},
   "outputs": [],
   "source": [
    "import numpy as np\n",
    "import pandas as pd\n",
    "import os\n",
    "import codecs\n",
    "from nltk.corpus import stopwords \n",
    "from nltk.stem.wordnet import WordNetLemmatizer\n",
    "import string\n",
    "# Importing Gensim\n",
    "import gensim\n",
    "from gensim.models.coherencemodel import CoherenceModel\n",
    "from gensim import corpora"
   ]
  },
  {
   "cell_type": "markdown",
   "metadata": {},
   "source": [
    "# *Apply the LDA Algorithm*"
   ]
  },
  {
   "cell_type": "markdown",
   "metadata": {},
   "source": [
    "## 1. Get the Corpus Sample "
   ]
  },
  {
   "cell_type": "code",
   "execution_count": null,
   "metadata": {},
   "outputs": [],
   "source": [
    "path = \"../src/data/corpus\"\n",
    "doc_complete = []\n",
    "for i in os.listdir(path):\n",
    "    if i.endswith('.txt'):\n",
    "        with codecs.open(path+\"/\"+i, 'r', encoding='utf-8',errors='ignore') as f:\n",
    "            doc_complete.append(f.read())"
   ]
  },
  {
   "cell_type": "markdown",
   "metadata": {},
   "source": [
    "## 2. Tokenize and remove the Stopwords"
   ]
  },
  {
   "cell_type": "code",
   "execution_count": null,
   "metadata": {},
   "outputs": [],
   "source": [
    "stop = set(stopwords.words('english'))\n",
    "exclude = set(string.punctuation) \n",
    "lemma = WordNetLemmatizer()\n",
    "def clean(doc):\n",
    "    stop_free = \" \".join([i for i in doc.lower().split() if i not in stop])\n",
    "    punc_free = ''.join(ch for ch in stop_free if ch not in exclude)\n",
    "    normalized = \" \".join(lemma.lemmatize(word) for word in punc_free.split())\n",
    "    return normalized\n",
    "\n",
    "doc_clean = [clean(doc).split() for doc in doc_complete] "
   ]
  },
  {
   "cell_type": "markdown",
   "metadata": {},
   "source": [
    "## 3. Prepare the Corpus and Dictionary for the LDA Algorithm"
   ]
  },
  {
   "cell_type": "code",
   "execution_count": null,
   "metadata": {},
   "outputs": [],
   "source": [
    "# Creating the term dictionary of our courpus, where every unique term is assigned an index. \n",
    "dictionary = corpora.Dictionary(doc_clean)\n",
    "\n",
    "# Converting list of documents (corpus) into Document Term Matrix using dictionary prepared above.\n",
    "doc_term_matrix = [dictionary.doc2bow(doc) for doc in doc_clean]"
   ]
  },
  {
   "cell_type": "markdown",
   "metadata": {},
   "source": [
    "## 4. Apply the Gensim LDA Algorithm"
   ]
  },
  {
   "cell_type": "code",
   "execution_count": null,
   "metadata": {},
   "outputs": [],
   "source": [
    "NUM_TOPICS = 5\n",
    "NUM_WORDS = 20\n",
    "\n",
    "# Creating the object for LDA model using gensim library\n",
    "Lda = gensim.models.ldamodel.LdaModel\n",
    "\n",
    "# Running and Trainign LDA model on the document term matrix.\n",
    "ldamodel = Lda(doc_term_matrix, \n",
    "               num_topics= NUM_TOPICS, \n",
    "               id2word = dictionary, \n",
    "               random_state=100, \n",
    "               update_every=1, \n",
    "               chunksize=100, \n",
    "               passes=10, \n",
    "               alpha='auto', \n",
    "               per_word_topics=True)"
   ]
  },
  {
   "cell_type": "markdown",
   "metadata": {},
   "source": [
    "## 5. Topic Words "
   ]
  },
  {
   "cell_type": "code",
   "execution_count": null,
   "metadata": {},
   "outputs": [],
   "source": [
    "res = ldamodel.print_topics(num_topics= NUM_TOPICS, num_words= NUM_WORDS)\n",
    "a_tab = [[\"topic\",\"word\",\"score\"]]\n",
    "for topic_i in res:\n",
    "    # 0: is id, 1: str of all words\n",
    "    t_id = topic_i[0] + 1\n",
    "    t_words_str = topic_i[1]\n",
    "    t_words = t_words_str.split(\" + \")\n",
    "    for a_t_word in t_words:\n",
    "        a_t_word_parts = a_t_word.split(\"*\")\n",
    "        score = a_t_word_parts[0]\n",
    "        the_word = a_t_word_parts[1].replace('\"','')\n",
    "        a_tab.append([t_id,the_word,score])"
   ]
  },
  {
   "cell_type": "markdown",
   "metadata": {},
   "source": [
    "\n",
    "# *PLOT Results*"
   ]
  },
  {
   "cell_type": "code",
   "execution_count": null,
   "metadata": {},
   "outputs": [],
   "source": [
    "# Plotting tools\n",
    "import pyLDAvis\n",
    "import pyLDAvis.gensim  # don't skip this\n",
    "import matplotlib.pyplot as plt"
   ]
  },
  {
   "cell_type": "markdown",
   "metadata": {},
   "source": [
    "## 1. PyLDAvis for a dynamic interactive visualization "
   ]
  },
  {
   "cell_type": "code",
   "execution_count": null,
   "metadata": {},
   "outputs": [],
   "source": [
    "pyLDAvis.gensim.prepare(ldamodel, doc_term_matrix, dictionary)"
   ]
  },
  {
   "cell_type": "markdown",
   "metadata": {},
   "source": [
    "## 2. Plot Topic Words"
   ]
  },
  {
   "cell_type": "code",
   "execution_count": null,
   "metadata": {},
   "outputs": [],
   "source": [
    "max_score = 0\n",
    "for row_index in range(1,len(a_tab)):\n",
    "    if float(a_tab[row_index][2]) > float(max_score): \n",
    "        max_score = a_tab[row_index][2]     \n",
    "\n",
    "num_top_words = 10\n",
    "MAXFONT = 70\n",
    "fontsize_base = MAXFONT/ float(max_score)\n",
    "#fontsize_base = 100\n",
    "plt.clf()\n",
    "plt.cla()\n",
    "plt.figure(figsize=(NUM_TOPICS*8, NUM_TOPICS*2.5)) \n",
    "\n",
    "for t in range(NUM_TOPICS):\n",
    "    plt.subplot(1, NUM_TOPICS, t + 1)  # plot numbering starts with 1\n",
    "    plt.box(on=None)\n",
    "    plt.ylim(0, num_top_words + 0.5)  # stretch the y-axis to accommodate the words\n",
    "    plt.xticks([])  # remove x-axis markings ('ticks')\n",
    "    plt.yticks([]) # remove y-axis markings ('ticks')\n",
    "    plt.title('Topic #{}'.format(t), fontsize = MAXFONT/2, pad = MAXFONT)\n",
    "\n",
    "    top_words = []\n",
    "    for row_index in range(1,len(a_tab)):\n",
    "        row = a_tab[row_index]\n",
    "        if (row[0] == (t+1)):\n",
    "            top_words.append(row[1:])\n",
    "\n",
    "    for i in range(0,len(top_words)):\n",
    "        word = top_words[i][0]\n",
    "        score = float(top_words[i][1])\n",
    "        plt.text(0.3, num_top_words-i-0.5, word, fontsize=fontsize_base*score)\n",
    "\n",
    "#plt.rcParams['figure.figsize'] = [30, NUM_TOPICS*5]\n",
    "plt.savefig('/Users/ivan.heibi/Desktop/topicswords_chart.png', dpi = 200)"
   ]
  }
 ],
 "metadata": {
  "kernelspec": {
   "display_name": "Python 3",
   "language": "python",
   "name": "python3"
  },
  "language_info": {
   "codemirror_mode": {
    "name": "ipython",
    "version": 3
   },
   "file_extension": ".py",
   "mimetype": "text/x-python",
   "name": "python",
   "nbconvert_exporter": "python",
   "pygments_lexer": "ipython3",
   "version": "3.6.5"
  }
 },
 "nbformat": 4,
 "nbformat_minor": 2
}
